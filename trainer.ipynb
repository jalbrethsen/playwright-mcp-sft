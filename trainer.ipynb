{
 "cells": [
  {
   "cell_type": "code",
   "execution_count": null,
   "id": "bdb9c28f-d4a7-49e1-9d5e-74a878e2edc3",
   "metadata": {},
   "outputs": [],
   "source": [
    "from unsloth import FastLanguageModel, is_bfloat16_supported\n",
    "from trl import SFTConfig, SFTTrainer\n",
    "from datasets import load_dataset, Dataset\n",
    "from unsloth import FastLanguageModel, is_bfloat16_supported\n",
    "import torch\n",
    "from mcp.types import Tool, ToolAnnotations\n",
    "import os \n",
    "import wandb\n",
    "import torch\n",
    "import json\n",
    "from transformers import DataCollatorForSeq2Seq\n",
    "from unsloth.chat_templates import train_on_responses_only\n"
   ]
  },
  {
   "cell_type": "code",
   "execution_count": null,
   "id": "6ca3b85c-fd3d-4a2f-a239-2a1949d608fc",
   "metadata": {},
   "outputs": [],
   "source": [
    "os.environ['WANDB_API_KEY'] = \"XXXX\"\n",
    "os.environ['WANDB_PROJECT'] = \"qwen3\"\n",
    "\n",
    "wandb.login()"
   ]
  },
  {
   "cell_type": "code",
   "execution_count": null,
   "id": "1da19b51-f367-44c4-b4ad-f9dbe208ae56",
   "metadata": {},
   "outputs": [],
   "source": [
    "max_seq_length = 8128 # Can increase for longer reasoning traces\n",
    "lora_rank = 32 # Larger rank = smarter, but slower\n",
    "\n",
    "\n",
    "model, tokenizer = FastLanguageModel.from_pretrained(\n",
    "    model_name = \"unsloth/Qwen3-4B-bnb-4bit\",\n",
    "    max_seq_length = max_seq_length,\n",
    "    load_in_4bit = True, # False for LoRA 16bit\n",
    "    fast_inference = False,\n",
    "    max_lora_rank = lora_rank,\n",
    "    gpu_memory_utilization = 0.5, # Reduce if out of memory\n",
    ")\n",
    "\n",
    "\n",
    "model = FastLanguageModel.get_peft_model(\n",
    "    model,\n",
    "    r = lora_rank, # Choose any number > 0 ! Suggested 8, 16, 32, 64, 128\n",
    "    target_modules = [\n",
    "        \"q_proj\", \"k_proj\", \"v_proj\", \"o_proj\",\n",
    "        \"gate_proj\", \"up_proj\", \"down_proj\",\n",
    "    ], # Remove QKVO if out of memory\n",
    "    lora_alpha = lora_rank*2,\n",
    "    use_gradient_checkpointing = \"unsloth\", # Enable long context finetuning\n",
    "    random_state = 3407,\n",
    ")"
   ]
  },
  {
   "cell_type": "code",
   "execution_count": null,
   "id": "d60f8797-20b3-44a8-9068-156488863427",
   "metadata": {},
   "outputs": [],
   "source": [
    "from unsloth.chat_templates import get_chat_template\n",
    "\n",
    "tokenizer = get_chat_template(\n",
    "    tokenizer,\n",
    "    chat_template = \"qwen-3\",\n",
    ")"
   ]
  },
  {
   "cell_type": "code",
   "execution_count": null,
   "id": "a0754d2a-baf7-406b-8450-273c668a0f38",
   "metadata": {},
   "outputs": [],
   "source": [
    "dataset = load_dataset(\"jdaddyalbs/playwright-mcp-toolcalling\", split=\"train\")"
   ]
  },
  {
   "cell_type": "code",
   "execution_count": null,
   "id": "898a5ee8-a9e9-4eac-a1cf-3567da4e35ef",
   "metadata": {},
   "outputs": [],
   "source": [
    "tools = [Tool(name='browser_close', title=None, description='Close the page', inputSchema={'type': 'object', 'properties': {}, 'additionalProperties': False, '$schema': 'http://json-schema.org/draft-07/schema#'}, outputSchema=None, annotations=ToolAnnotations(title='Close browser', readOnlyHint=True, destructiveHint=False, idempotentHint=None, openWorldHint=True), meta=None),\n",
    " Tool(name='browser_resize', title=None, description='Resize the browser window', inputSchema={'type': 'object', 'properties': {'width': {'type': 'number', 'description': 'Width of the browser window'}, 'height': {'type': 'number', 'description': 'Height of the browser window'}}, 'required': ['width', 'height'], 'additionalProperties': False, '$schema': 'http://json-schema.org/draft-07/schema#'}, outputSchema=None, annotations=ToolAnnotations(title='Resize browser window', readOnlyHint=True, destructiveHint=False, idempotentHint=None, openWorldHint=True), meta=None),\n",
    " Tool(name='browser_console_messages', title=None, description='Returns all console messages', inputSchema={'type': 'object', 'properties': {}, 'additionalProperties': False, '$schema': 'http://json-schema.org/draft-07/schema#'}, outputSchema=None, annotations=ToolAnnotations(title='Get console messages', readOnlyHint=True, destructiveHint=False, idempotentHint=None, openWorldHint=True), meta=None),\n",
    " Tool(name='browser_handle_dialog', title=None, description='Handle a dialog', inputSchema={'type': 'object', 'properties': {'accept': {'type': 'boolean', 'description': 'Whether to accept the dialog.'}, 'promptText': {'type': 'string', 'description': 'The text of the prompt in case of a prompt dialog.'}}, 'required': ['accept'], 'additionalProperties': False, '$schema': 'http://json-schema.org/draft-07/schema#'}, outputSchema=None, annotations=ToolAnnotations(title='Handle a dialog', readOnlyHint=False, destructiveHint=True, idempotentHint=None, openWorldHint=True), meta=None),\n",
    " Tool(name='browser_file_upload', title=None, description='Upload one or multiple files', inputSchema={'type': 'object', 'properties': {'paths': {'type': 'array', 'items': {'type': 'string'}, 'description': 'The absolute paths to the files to upload. Can be a single file or multiple files.'}}, 'required': ['paths'], 'additionalProperties': False, '$schema': 'http://json-schema.org/draft-07/schema#'}, outputSchema=None, annotations=ToolAnnotations(title='Upload files', readOnlyHint=False, destructiveHint=True, idempotentHint=None, openWorldHint=True), meta=None),\n",
    " Tool(name='browser_install', title=None, description='Install the browser specified in the config. Call this if you get an error about the browser not being installed.', inputSchema={'type': 'object', 'properties': {}, 'additionalProperties': False, '$schema': 'http://json-schema.org/draft-07/schema#'}, outputSchema=None, annotations=ToolAnnotations(title='Install the browser specified in the config', readOnlyHint=False, destructiveHint=True, idempotentHint=None, openWorldHint=True), meta=None),\n",
    " Tool(name='browser_press_key', title=None, description='Press a key on the keyboard', inputSchema={'type': 'object', 'properties': {'key': {'type': 'string', 'description': 'Name of the key to press or a character to generate, such as `ArrowLeft` or `a`'}}, 'required': ['key'], 'additionalProperties': False, '$schema': 'http://json-schema.org/draft-07/schema#'}, outputSchema=None, annotations=ToolAnnotations(title='Press a key', readOnlyHint=False, destructiveHint=True, idempotentHint=None, openWorldHint=True), meta=None),\n",
    " Tool(name='browser_navigate', title=None, description='Navigate to a URL', inputSchema={'type': 'object', 'properties': {'url': {'type': 'string', 'description': 'The URL to navigate to'}}, 'required': ['url'], 'additionalProperties': False, '$schema': 'http://json-schema.org/draft-07/schema#'}, outputSchema=None, annotations=ToolAnnotations(title='Navigate to a URL', readOnlyHint=False, destructiveHint=True, idempotentHint=None, openWorldHint=True), meta=None),\n",
    " Tool(name='browser_navigate_back', title=None, description='Go back to the previous page', inputSchema={'type': 'object', 'properties': {}, 'additionalProperties': False, '$schema': 'http://json-schema.org/draft-07/schema#'}, outputSchema=None, annotations=ToolAnnotations(title='Go back', readOnlyHint=True, destructiveHint=False, idempotentHint=None, openWorldHint=True), meta=None),\n",
    " Tool(name='browser_navigate_forward', title=None, description='Go forward to the next page', inputSchema={'type': 'object', 'properties': {}, 'additionalProperties': False, '$schema': 'http://json-schema.org/draft-07/schema#'}, outputSchema=None, annotations=ToolAnnotations(title='Go forward', readOnlyHint=True, destructiveHint=False, idempotentHint=None, openWorldHint=True), meta=None),\n",
    " Tool(name='browser_network_requests', title=None, description='Returns all network requests since loading the page', inputSchema={'type': 'object', 'properties': {}, 'additionalProperties': False, '$schema': 'http://json-schema.org/draft-07/schema#'}, outputSchema=None, annotations=ToolAnnotations(title='List network requests', readOnlyHint=True, destructiveHint=False, idempotentHint=None, openWorldHint=True), meta=None),\n",
    " Tool(name='browser_pdf_save', title=None, description='Save page as PDF', inputSchema={'type': 'object', 'properties': {'filename': {'type': 'string', 'description': 'File name to save the pdf to. Defaults to `page-{timestamp}.pdf` if not specified.'}}, 'additionalProperties': False, '$schema': 'http://json-schema.org/draft-07/schema#'}, outputSchema=None, annotations=ToolAnnotations(title='Save as PDF', readOnlyHint=True, destructiveHint=False, idempotentHint=None, openWorldHint=True), meta=None),\n",
    " Tool(name='browser_take_screenshot', title=None, description=\"Take a screenshot of the current page. You can't perform actions based on the screenshot, use browser_snapshot for actions.\", inputSchema={'type': 'object', 'properties': {'raw': {'type': 'boolean', 'description': 'Whether to return without compression (in PNG format). Default is false, which returns a JPEG image.'}, 'filename': {'type': 'string', 'description': 'File name to save the screenshot to. Defaults to `page-{timestamp}.{png|jpeg}` if not specified.'}, 'element': {'type': 'string', 'description': 'Human-readable element description used to obtain permission to screenshot the element. If not provided, the screenshot will be taken of viewport. If element is provided, ref must be provided too.'}, 'ref': {'type': 'string', 'description': 'Exact target element reference from the page snapshot. If not provided, the screenshot will be taken of viewport. If ref is provided, element must be provided too.'}}, 'additionalProperties': False, '$schema': 'http://json-schema.org/draft-07/schema#'}, outputSchema=None, annotations=ToolAnnotations(title='Take a screenshot', readOnlyHint=True, destructiveHint=False, idempotentHint=None, openWorldHint=True), meta=None),\n",
    " Tool(name='browser_snapshot', title=None, description='Capture accessibility snapshot of the current page, this is better than screenshot', inputSchema={'type': 'object', 'properties': {}, 'additionalProperties': False, '$schema': 'http://json-schema.org/draft-07/schema#'}, outputSchema=None, annotations=ToolAnnotations(title='Page snapshot', readOnlyHint=True, destructiveHint=False, idempotentHint=None, openWorldHint=True), meta=None),\n",
    " Tool(name='browser_click', title=None, description='Perform click on a web page', inputSchema={'type': 'object', 'properties': {'element': {'type': 'string', 'description': 'Human-readable element description used to obtain permission to interact with the element'}, 'ref': {'type': 'string', 'description': 'Exact target element reference from the page snapshot'}, 'doubleClick': {'type': 'boolean', 'description': 'Whether to perform a double click instead of a single click'}}, 'required': ['element', 'ref'], 'additionalProperties': False, '$schema': 'http://json-schema.org/draft-07/schema#'}, outputSchema=None, annotations=ToolAnnotations(title='Click', readOnlyHint=False, destructiveHint=True, idempotentHint=None, openWorldHint=True), meta=None),\n",
    " Tool(name='browser_drag', title=None, description='Perform drag and drop between two elements', inputSchema={'type': 'object', 'properties': {'startElement': {'type': 'string', 'description': 'Human-readable source element description used to obtain the permission to interact with the element'}, 'startRef': {'type': 'string', 'description': 'Exact source element reference from the page snapshot'}, 'endElement': {'type': 'string', 'description': 'Human-readable target element description used to obtain the permission to interact with the element'}, 'endRef': {'type': 'string', 'description': 'Exact target element reference from the page snapshot'}}, 'required': ['startElement', 'startRef', 'endElement', 'endRef'], 'additionalProperties': False, '$schema': 'http://json-schema.org/draft-07/schema#'}, outputSchema=None, annotations=ToolAnnotations(title='Drag mouse', readOnlyHint=False, destructiveHint=True, idempotentHint=None, openWorldHint=True), meta=None),\n",
    " Tool(name='browser_hover', title=None, description='Hover over element on page', inputSchema={'type': 'object', 'properties': {'element': {'type': 'string', 'description': 'Human-readable element description used to obtain permission to interact with the element'}, 'ref': {'type': 'string', 'description': 'Exact target element reference from the page snapshot'}}, 'required': ['element', 'ref'], 'additionalProperties': False, '$schema': 'http://json-schema.org/draft-07/schema#'}, outputSchema=None, annotations=ToolAnnotations(title='Hover mouse', readOnlyHint=True, destructiveHint=False, idempotentHint=None, openWorldHint=True), meta=None),\n",
    " Tool(name='browser_type', title=None, description='Type text into editable element', inputSchema={'type': 'object', 'properties': {'element': {'type': 'string', 'description': 'Human-readable element description used to obtain permission to interact with the element'}, 'ref': {'type': 'string', 'description': 'Exact target element reference from the page snapshot'}, 'text': {'type': 'string', 'description': 'Text to type into the element'}, 'submit': {'type': 'boolean', 'description': 'Whether to submit entered text (press Enter after)'}, 'slowly': {'type': 'boolean', 'description': 'Whether to type one character at a time. Useful for triggering key handlers in the page. By default entire text is filled in at once.'}}, 'required': ['element', 'ref', 'text'], 'additionalProperties': False, '$schema': 'http://json-schema.org/draft-07/schema#'}, outputSchema=None, annotations=ToolAnnotations(title='Type text', readOnlyHint=False, destructiveHint=True, idempotentHint=None, openWorldHint=True), meta=None),\n",
    " Tool(name='browser_select_option', title=None, description='Select an option in a dropdown', inputSchema={'type': 'object', 'properties': {'element': {'type': 'string', 'description': 'Human-readable element description used to obtain permission to interact with the element'}, 'ref': {'type': 'string', 'description': 'Exact target element reference from the page snapshot'}, 'values': {'type': 'array', 'items': {'type': 'string'}, 'description': 'Array of values to select in the dropdown. This can be a single value or multiple values.'}}, 'required': ['element', 'ref', 'values'], 'additionalProperties': False, '$schema': 'http://json-schema.org/draft-07/schema#'}, outputSchema=None, annotations=ToolAnnotations(title='Select option', readOnlyHint=False, destructiveHint=True, idempotentHint=None, openWorldHint=True), meta=None),\n",
    " Tool(name='browser_tab_list', title=None, description='List browser tabs', inputSchema={'type': 'object', 'properties': {}, 'additionalProperties': False, '$schema': 'http://json-schema.org/draft-07/schema#'}, outputSchema=None, annotations=ToolAnnotations(title='List tabs', readOnlyHint=True, destructiveHint=False, idempotentHint=None, openWorldHint=True), meta=None),\n",
    " Tool(name='browser_tab_new', title=None, description='Open a new tab', inputSchema={'type': 'object', 'properties': {'url': {'type': 'string', 'description': 'The URL to navigate to in the new tab. If not provided, the new tab will be blank.'}}, 'additionalProperties': False, '$schema': 'http://json-schema.org/draft-07/schema#'}, outputSchema=None, annotations=ToolAnnotations(title='Open a new tab', readOnlyHint=True, destructiveHint=False, idempotentHint=None, openWorldHint=True), meta=None),\n",
    " Tool(name='browser_tab_select', title=None, description='Select a tab by index', inputSchema={'type': 'object', 'properties': {'index': {'type': 'number', 'description': 'The index of the tab to select'}}, 'required': ['index'], 'additionalProperties': False, '$schema': 'http://json-schema.org/draft-07/schema#'}, outputSchema=None, annotations=ToolAnnotations(title='Select a tab', readOnlyHint=True, destructiveHint=False, idempotentHint=None, openWorldHint=True), meta=None),\n",
    " Tool(name='browser_tab_close', title=None, description='Close a tab', inputSchema={'type': 'object', 'properties': {'index': {'type': 'number', 'description': 'The index of the tab to close. Closes current tab if not provided.'}}, 'additionalProperties': False, '$schema': 'http://json-schema.org/draft-07/schema#'}, outputSchema=None, annotations=ToolAnnotations(title='Close a tab', readOnlyHint=False, destructiveHint=True, idempotentHint=None, openWorldHint=True), meta=None),\n",
    " Tool(name='browser_generate_playwright_test', title=None, description='Generate a Playwright test for given scenario', inputSchema={'type': 'object', 'properties': {'name': {'type': 'string', 'description': 'The name of the test'}, 'description': {'type': 'string', 'description': 'The description of the test'}, 'steps': {'type': 'array', 'items': {'type': 'string'}, 'description': 'The steps of the test'}}, 'required': ['name', 'description', 'steps'], 'additionalProperties': False, '$schema': 'http://json-schema.org/draft-07/schema#'}, outputSchema=None, annotations=ToolAnnotations(title='Generate a Playwright test', readOnlyHint=True, destructiveHint=False, idempotentHint=None, openWorldHint=True), meta=None),\n",
    " Tool(name='browser_wait_for', title=None, description='Wait for text to appear or disappear or a specified time to pass', inputSchema={'type': 'object', 'properties': {'time': {'type': 'number', 'description': 'The time to wait in seconds'}, 'text': {'type': 'string', 'description': 'The text to wait for'}, 'textGone': {'type': 'string', 'description': 'The text to wait for to disappear'}}, 'additionalProperties': False, '$schema': 'http://json-schema.org/draft-07/schema#'}, outputSchema=None, annotations=ToolAnnotations(title='Wait for', readOnlyHint=True, destructiveHint=False, idempotentHint=None, openWorldHint=True), meta=None)]"
   ]
  },
  {
   "cell_type": "code",
   "execution_count": null,
   "id": "263ecd0f-41b0-4cf2-bb47-61d6d0725960",
   "metadata": {},
   "outputs": [],
   "source": [
    "tools_json = [\n",
    "    {\n",
    "        \"type\":\"function\",\n",
    "        \"function\": {\n",
    "            \"name\": tool.name,\n",
    "            \"description\": tool.description,\n",
    "            \"parameters\": tool.inputSchema\n",
    "            #\"parameters\": json.dumps(tool.inputSchema)\n",
    "        }\n",
    "    } for tool in tools\n",
    "]"
   ]
  },
  {
   "cell_type": "code",
   "execution_count": null,
   "id": "7a1f20e4-b3e2-4138-b860-510e7a04a864",
   "metadata": {},
   "outputs": [],
   "source": [
    "dataset = dataset.map(lambda x: {\"conversations\":x['messages'][:3]})"
   ]
  },
  {
   "cell_type": "code",
   "execution_count": null,
   "id": "dfb25717-888c-4796-9cee-b1c82399ff46",
   "metadata": {},
   "outputs": [],
   "source": [
    "def apply_template(examples):\n",
    "    messages = examples[\"conversations\"]\n",
    "    text = [\n",
    "        tokenizer.apply_chat_template(\n",
    "            message,\n",
    "            tools=tools_json,\n",
    "            tokenize=False,\n",
    "            add_generation_prompt=False,\n",
    "            enable_thinking=False\n",
    "        ) \n",
    "        for message in messages\n",
    "    ]\n",
    "    return {\"text\": text}"
   ]
  },
  {
   "cell_type": "code",
   "execution_count": null,
   "id": "4a0ccd1a-d217-4ece-8773-73117ab355dc",
   "metadata": {},
   "outputs": [],
   "source": [
    "dataset = dataset.map(apply_template, batched=True)\n",
    "ds = dataset.train_test_split(test_size = 0.1)\n",
    "train_dataset = ds['train']\n",
    "eval_dataset = ds['test']"
   ]
  },
  {
   "cell_type": "code",
   "execution_count": null,
   "id": "659a2864-fa2f-4abc-b4ae-6d267f7c1bd9",
   "metadata": {},
   "outputs": [],
   "source": [
    "trainer = SFTTrainer(\n",
    "    model = model,\n",
    "    tokenizer = tokenizer,\n",
    "    train_dataset = train_dataset,\n",
    "    eval_dataset = eval_dataset, # Can set up evaluation!\n",
    "    data_collator = DataCollatorForSeq2Seq(tokenizer = tokenizer),\n",
    "    args = SFTConfig(\n",
    "        dataset_text_field = \"text\",\n",
    "        per_device_train_batch_size = 1, # could probably do 128\n",
    "        gradient_accumulation_steps = 2, # Use GA to mimic batch size!\n",
    "        warmup_steps = 5,\n",
    "        num_train_epochs = 1, # Set this for 1 full training run.\n",
    "        learning_rate = 2e-4, # Reduce to 2e-5 for long training runs\n",
    "        logging_steps = 1,\n",
    "        optim = \"adamw_8bit\",\n",
    "        weight_decay = 0.01,\n",
    "        lr_scheduler_type = \"linear\",\n",
    "        seed = 3407,\n",
    "        report_to = \"wandb\", # Use this for WandB etc\n",
    "        output_dir='qwen3-sft',\n",
    "        dataset_num_proc=2,\n",
    "        eval_steps=50,\n",
    "        fp16_full_eval = True,\n",
    "        per_device_eval_batch_size = 1,\n",
    "        eval_accumulation_steps = 1,\n",
    "        eval_strategy = \"steps\",\n",
    "    ),\n",
    ")"
   ]
  },
  {
   "cell_type": "code",
   "execution_count": null,
   "id": "d3922f1f-0106-48f7-b860-1a2775136db6",
   "metadata": {
    "scrolled": true
   },
   "outputs": [],
   "source": [
    "train_dataset['text'][0]"
   ]
  },
  {
   "cell_type": "code",
   "execution_count": null,
   "id": "8d54c2b8-1b79-439b-a3ed-1f5562cf795c",
   "metadata": {
    "scrolled": true
   },
   "outputs": [],
   "source": [
    "tokenizer.decode(trainer.train_dataset[0][\"input_ids\"])"
   ]
  },
  {
   "cell_type": "code",
   "execution_count": null,
   "id": "42280d0c-9763-4836-8f5a-4d92038e0ca4",
   "metadata": {},
   "outputs": [],
   "source": [
    "trainer = train_on_responses_only(\n",
    "    trainer,\n",
    "    instruction_part = \"<|im_start|>user\\n\",\n",
    "    response_part = \"<|im_start|>assistant\\n\",\n",
    ")"
   ]
  },
  {
   "cell_type": "code",
   "execution_count": null,
   "id": "8e9d1051-7813-4570-9fcf-183d70e845bb",
   "metadata": {},
   "outputs": [],
   "source": [
    "trainer_stats = trainer.train(resume_from_checkpoint=False)"
   ]
  },
  {
   "cell_type": "code",
   "execution_count": null,
   "id": "7e8d7a36-a5b6-452c-9fcf-5bb4325bd5d0",
   "metadata": {},
   "outputs": [],
   "source": []
  }
 ],
 "metadata": {
  "kernelspec": {
   "display_name": "Python 3 (ipykernel)",
   "language": "python",
   "name": "python3"
  },
  "language_info": {
   "codemirror_mode": {
    "name": "ipython",
    "version": 3
   },
   "file_extension": ".py",
   "mimetype": "text/x-python",
   "name": "python",
   "nbconvert_exporter": "python",
   "pygments_lexer": "ipython3",
   "version": "3.12.11"
  }
 },
 "nbformat": 4,
 "nbformat_minor": 5
}
